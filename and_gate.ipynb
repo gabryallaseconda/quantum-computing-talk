{
 "cells": [
  {
   "cell_type": "code",
   "execution_count": 1,
   "metadata": {},
   "outputs": [],
   "source": [
    "# python3.10\n",
    "# pip install 'qiskit==0.39.5'"
   ]
  },
  {
   "cell_type": "code",
   "execution_count": 2,
   "metadata": {},
   "outputs": [
    {
     "name": "stdout",
     "output_type": "stream",
     "text": [
      "Quantum AND Gate Circuit:\n",
      "     ┌───┐     ┌─┐      \n",
      "q_0: ┤ X ├──■──┤M├──────\n",
      "     ├───┤  │  └╥┘┌─┐   \n",
      "q_1: ┤ X ├──■───╫─┤M├───\n",
      "     └───┘┌─┴─┐ ║ └╥┘┌─┐\n",
      "q_2: ─────┤ X ├─╫──╫─┤M├\n",
      "          └───┘ ║  ║ └╥┘\n",
      "c: 3/═══════════╩══╩══╩═\n",
      "                0  1  2 \n",
      "\n",
      "Simulation Results:\n",
      "111: 1000 shots\n",
      "\n",
      "Quantum AND Gate Truth Table:\n",
      "─────────────────────────\n",
      "│ A │ B │ A AND B │\n",
      "─────────────────────────\n",
      "│ 0 │ 0 │    0    │\n",
      "│ 0 │ 1 │    0    │\n",
      "│ 1 │ 0 │    0    │\n",
      "│ 1 │ 1 │    1    │\n",
      "─────────────────────────\n"
     ]
    }
   ],
   "source": [
    "from qiskit import QuantumCircuit, Aer, execute\n",
    "\n",
    "# Create a quantum circuit with 3 qubits and 3 classical bits\n",
    "qc = QuantumCircuit(3, 3)\n",
    "\n",
    "# To test the AND gate, set up the input state |11⟩ for the control qubits\n",
    "qc.x(0)  # Set first control qubit to |1⟩\n",
    "qc.x(1)  # Set second control qubit to |1⟩\n",
    "\n",
    "# Apply the Toffoli gate (quantum AND gate)\n",
    "qc.ccx(0, 1, 2)  # Control qubits are 0 and 1, target is 2\n",
    "\n",
    "# Measure all qubits\n",
    "qc.measure([0, 1, 2], [0, 1, 2])\n",
    "\n",
    "# Print text representation of the circuit\n",
    "print(\"Quantum AND Gate Circuit:\")\n",
    "print(qc)\n",
    "\n",
    "# Simulate the circuit\n",
    "simulator = Aer.get_backend('qasm_simulator')\n",
    "job = execute(qc, simulator, shots=1000)\n",
    "result = job.result()\n",
    "counts = result.get_counts(qc)\n",
    "\n",
    "# Print results\n",
    "print(\"\\nSimulation Results:\")\n",
    "for bitstring, count in counts.items():\n",
    "    print(f\"{bitstring}: {count} shots\")\n",
    "\n",
    "# Truth table for AND gate\n",
    "print(\"\\nQuantum AND Gate Truth Table:\")\n",
    "print(\"─────────────────────────\")\n",
    "print(\"│ A │ B │ A AND B │\")\n",
    "print(\"─────────────────────────\")\n",
    "\n",
    "# Function to run the circuit with specific inputs\n",
    "def quantum_and(input1, input2):\n",
    "    # Create a quantum circuit with 3 qubits and 3 classical bits\n",
    "    qc = QuantumCircuit(3, 3)\n",
    "    \n",
    "    # Set input states\n",
    "    if input1:\n",
    "        qc.x(0)\n",
    "    if input2:\n",
    "        qc.x(1)\n",
    "    \n",
    "    # Apply the Toffoli gate (quantum AND gate)\n",
    "    qc.ccx(0, 1, 2)\n",
    "    \n",
    "    # Measure all qubits\n",
    "    qc.measure([0, 1, 2], [0, 1, 2])\n",
    "    \n",
    "    # Simulate the circuit\n",
    "    job = execute(qc, simulator, shots=1)\n",
    "    result = job.result()\n",
    "    counts = result.get_counts(qc)\n",
    "    \n",
    "    # In Qiskit, the bit order in the result string is the reverse of the qubit order\n",
    "    # So the third qubit (AND result) will be the leftmost bit in the result string\n",
    "    for bitstring in counts:\n",
    "        return int(bitstring[0])\n",
    "\n",
    "for a in [0, 1]:\n",
    "    for b in [0, 1]:\n",
    "        result = quantum_and(a, b)\n",
    "        print(f\"│ {a} │ {b} │    {result}    │\")\n",
    "\n",
    "print(\"─────────────────────────\")\n"
   ]
  },
  {
   "cell_type": "code",
   "execution_count": 3,
   "metadata": {},
   "outputs": [],
   "source": [
    "from qiskit.visualization import circuit_drawer, plot_histogram\n",
    "circuit_drawer(qc, output='mpl', filename='quantum_and_circuit.png')\n",
    "plot_histogram(counts, filename='quantum_and_results.png')"
   ]
  },
  {
   "cell_type": "code",
   "execution_count": null,
   "metadata": {},
   "outputs": [],
   "source": []
  },
  {
   "cell_type": "code",
   "execution_count": null,
   "metadata": {},
   "outputs": [],
   "source": []
  },
  {
   "cell_type": "code",
   "execution_count": null,
   "metadata": {},
   "outputs": [],
   "source": []
  }
 ],
 "metadata": {
  "kernelspec": {
   "display_name": ".venv",
   "language": "python",
   "name": "python3"
  },
  "language_info": {
   "codemirror_mode": {
    "name": "ipython",
    "version": 3
   },
   "file_extension": ".py",
   "mimetype": "text/x-python",
   "name": "python",
   "nbconvert_exporter": "python",
   "pygments_lexer": "ipython3",
   "version": "3.13.1"
  }
 },
 "nbformat": 4,
 "nbformat_minor": 2
}
